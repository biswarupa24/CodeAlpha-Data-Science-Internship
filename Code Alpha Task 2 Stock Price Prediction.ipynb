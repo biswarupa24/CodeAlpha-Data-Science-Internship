{
 "cells": [
  {
   "cell_type": "code",
   "execution_count": 16,
   "id": "ad556077",
   "metadata": {},
   "outputs": [],
   "source": [
    "#Import Libraries\n",
    "import pandas as pd\n",
    "import numpy as np\n",
    "import matplotlib.pyplot as plt\n",
    "import seaborn as sns"
   ]
  },
  {
   "cell_type": "code",
   "execution_count": 17,
   "id": "fe27d982",
   "metadata": {},
   "outputs": [],
   "source": [
    "#Load data\n",
    "df = pd.read_csv(r\"C:\\Users\\senap\\Downloads\\datasetsandcodefilesstockmarketprediction\\tesla.csv\")"
   ]
  },
  {
   "cell_type": "code",
   "execution_count": 18,
   "id": "2265f05f",
   "metadata": {},
   "outputs": [
    {
     "data": {
      "text/html": [
       "<div>\n",
       "<style scoped>\n",
       "    .dataframe tbody tr th:only-of-type {\n",
       "        vertical-align: middle;\n",
       "    }\n",
       "\n",
       "    .dataframe tbody tr th {\n",
       "        vertical-align: top;\n",
       "    }\n",
       "\n",
       "    .dataframe thead th {\n",
       "        text-align: right;\n",
       "    }\n",
       "</style>\n",
       "<table border=\"1\" class=\"dataframe\">\n",
       "  <thead>\n",
       "    <tr style=\"text-align: right;\">\n",
       "      <th></th>\n",
       "      <th>Date</th>\n",
       "      <th>Open</th>\n",
       "      <th>High</th>\n",
       "      <th>Low</th>\n",
       "      <th>Close</th>\n",
       "      <th>Adj Close</th>\n",
       "      <th>Volume</th>\n",
       "    </tr>\n",
       "  </thead>\n",
       "  <tbody>\n",
       "    <tr>\n",
       "      <th>0</th>\n",
       "      <td>29-06-2010</td>\n",
       "      <td>19.000000</td>\n",
       "      <td>25.00</td>\n",
       "      <td>17.540001</td>\n",
       "      <td>23.889999</td>\n",
       "      <td>23.889999</td>\n",
       "      <td>18766300</td>\n",
       "    </tr>\n",
       "    <tr>\n",
       "      <th>1</th>\n",
       "      <td>30-06-2010</td>\n",
       "      <td>25.790001</td>\n",
       "      <td>30.42</td>\n",
       "      <td>23.299999</td>\n",
       "      <td>23.830000</td>\n",
       "      <td>23.830000</td>\n",
       "      <td>17187100</td>\n",
       "    </tr>\n",
       "    <tr>\n",
       "      <th>2</th>\n",
       "      <td>01-07-2010</td>\n",
       "      <td>25.000000</td>\n",
       "      <td>25.92</td>\n",
       "      <td>20.270000</td>\n",
       "      <td>21.959999</td>\n",
       "      <td>21.959999</td>\n",
       "      <td>8218800</td>\n",
       "    </tr>\n",
       "    <tr>\n",
       "      <th>3</th>\n",
       "      <td>02-07-2010</td>\n",
       "      <td>23.000000</td>\n",
       "      <td>23.10</td>\n",
       "      <td>18.709999</td>\n",
       "      <td>19.200001</td>\n",
       "      <td>19.200001</td>\n",
       "      <td>5139800</td>\n",
       "    </tr>\n",
       "    <tr>\n",
       "      <th>4</th>\n",
       "      <td>06-07-2010</td>\n",
       "      <td>20.000000</td>\n",
       "      <td>20.00</td>\n",
       "      <td>15.830000</td>\n",
       "      <td>16.110001</td>\n",
       "      <td>16.110001</td>\n",
       "      <td>6866900</td>\n",
       "    </tr>\n",
       "  </tbody>\n",
       "</table>\n",
       "</div>"
      ],
      "text/plain": [
       "         Date       Open   High        Low      Close  Adj Close    Volume\n",
       "0  29-06-2010  19.000000  25.00  17.540001  23.889999  23.889999  18766300\n",
       "1  30-06-2010  25.790001  30.42  23.299999  23.830000  23.830000  17187100\n",
       "2  01-07-2010  25.000000  25.92  20.270000  21.959999  21.959999   8218800\n",
       "3  02-07-2010  23.000000  23.10  18.709999  19.200001  19.200001   5139800\n",
       "4  06-07-2010  20.000000  20.00  15.830000  16.110001  16.110001   6866900"
      ]
     },
     "execution_count": 18,
     "metadata": {},
     "output_type": "execute_result"
    }
   ],
   "source": [
    "df.head()"
   ]
  },
  {
   "cell_type": "code",
   "execution_count": 19,
   "id": "45b252e7",
   "metadata": {},
   "outputs": [
    {
     "name": "stdout",
     "output_type": "stream",
     "text": [
      "<class 'pandas.core.frame.DataFrame'>\n",
      "RangeIndex: 2193 entries, 0 to 2192\n",
      "Data columns (total 7 columns):\n",
      " #   Column     Non-Null Count  Dtype  \n",
      "---  ------     --------------  -----  \n",
      " 0   Date       2193 non-null   object \n",
      " 1   Open       2193 non-null   float64\n",
      " 2   High       2193 non-null   float64\n",
      " 3   Low        2193 non-null   float64\n",
      " 4   Close      2193 non-null   float64\n",
      " 5   Adj Close  2193 non-null   float64\n",
      " 6   Volume     2193 non-null   int64  \n",
      "dtypes: float64(5), int64(1), object(1)\n",
      "memory usage: 120.1+ KB\n"
     ]
    }
   ],
   "source": [
    "df.info()"
   ]
  },
  {
   "cell_type": "code",
   "execution_count": 20,
   "id": "32a39292",
   "metadata": {},
   "outputs": [
    {
     "name": "stderr",
     "output_type": "stream",
     "text": [
      "C:\\Users\\senap\\AppData\\Local\\Temp\\ipykernel_4044\\2394721818.py:1: UserWarning: Parsing dates in DD/MM/YYYY format when dayfirst=False (the default) was specified. This may lead to inconsistently parsed dates! Specify a format to ensure consistent parsing.\n",
      "  df['Date'] = pd.to_datetime(df['Date'])\n"
     ]
    }
   ],
   "source": [
    "df['Date'] = pd.to_datetime(df['Date'])"
   ]
  },
  {
   "cell_type": "code",
   "execution_count": 21,
   "id": "e7d4aadd",
   "metadata": {},
   "outputs": [
    {
     "name": "stdout",
     "output_type": "stream",
     "text": [
      "DataFrame contains Stock prices between 2010-01-07 00:00:00 2019-12-03 00:00:00\n",
      "Total days = 3617days\n"
     ]
    }
   ],
   "source": [
    "print(f'DataFrame contains Stock prices between {df.Date.min()} {df.Date.max()}')\n",
    "print(f'Total days = {(df.Date.max() - df.Date.min()).days}days')"
   ]
  },
  {
   "cell_type": "code",
   "execution_count": 22,
   "id": "d03a5c54",
   "metadata": {},
   "outputs": [
    {
     "data": {
      "text/plain": [
       "<bound method NDFrame.describe of            Date        Open        High         Low       Close   Adj Close  \\\n",
       "0    2010-06-29   19.000000   25.000000   17.540001   23.889999   23.889999   \n",
       "1    2010-06-30   25.790001   30.420000   23.299999   23.830000   23.830000   \n",
       "2    2010-01-07   25.000000   25.920000   20.270000   21.959999   21.959999   \n",
       "3    2010-02-07   23.000000   23.100000   18.709999   19.200001   19.200001   \n",
       "4    2010-06-07   20.000000   20.000000   15.830000   16.110001   16.110001   \n",
       "...         ...         ...         ...         ...         ...         ...   \n",
       "2188 2019-11-03  283.519989  291.279999  280.500000  290.920013  290.920013   \n",
       "2189 2019-12-03  286.489990  288.070007  281.059998  283.359985  283.359985   \n",
       "2190 2019-03-13  283.899994  291.989990  282.700012  288.959991  288.959991   \n",
       "2191 2019-03-14  292.450012  295.390015  288.290009  289.959991  289.959991   \n",
       "2192 2019-03-15  283.510010  283.723999  274.399994  275.429993  275.429993   \n",
       "\n",
       "        Volume  \n",
       "0     18766300  \n",
       "1     17187100  \n",
       "2      8218800  \n",
       "3      5139800  \n",
       "4      6866900  \n",
       "...        ...  \n",
       "2188   7392300  \n",
       "2189   7504100  \n",
       "2190   6844700  \n",
       "2191   7074200  \n",
       "2192  14758243  \n",
       "\n",
       "[2193 rows x 7 columns]>"
      ]
     },
     "execution_count": 22,
     "metadata": {},
     "output_type": "execute_result"
    }
   ],
   "source": [
    "df.describe"
   ]
  },
  {
   "cell_type": "code",
   "execution_count": 23,
   "id": "6a055a93",
   "metadata": {},
   "outputs": [
    {
     "data": {
      "text/plain": [
       "<Axes: >"
      ]
     },
     "execution_count": 23,
     "metadata": {},
     "output_type": "execute_result"
    },
    {
     "data": {
      "image/png": "[encoded data removed]",
      "text/plain": [
       "<Figure size 640x480 with 1 Axes>"
      ]
     },
     "metadata": {},
     "output_type": "display_data"
    }
   ],
   "source": [
    "df[['Open', 'High', 'Low', 'Close', 'Adj Close']].plot(kind = 'box')"
   ]
  },
  {
   "cell_type": "code",
   "execution_count": 24,
   "id": "a389c40f",
   "metadata": {},
   "outputs": [],
   "source": [
    "df1 = df.reset_index()['Close']"
   ]
  },
  {
   "cell_type": "code",
   "execution_count": 25,
   "id": "a0a8e453",
   "metadata": {},
   "outputs": [
    {
     "data": {
      "text/plain": [
       "(2193,)"
      ]
     },
     "execution_count": 25,
     "metadata": {},
     "output_type": "execute_result"
    }
   ],
   "source": [
    "df1.shape"
   ]
  },
  {
   "cell_type": "code",
   "execution_count": 26,
   "id": "2c392281",
   "metadata": {},
   "outputs": [
    {
     "data": {
      "text/plain": [
       "0        23.889999\n",
       "1        23.830000\n",
       "2        21.959999\n",
       "3        19.200001\n",
       "4        16.110001\n",
       "           ...    \n",
       "2188    290.920013\n",
       "2189    283.359985\n",
       "2190    288.959991\n",
       "2191    289.959991\n",
       "2192    275.429993\n",
       "Name: Close, Length: 2193, dtype: float64"
      ]
     },
     "execution_count": 26,
     "metadata": {},
     "output_type": "execute_result"
    }
   ],
   "source": [
    "df1"
   ]
  },
  {
   "cell_type": "code",
   "execution_count": 12,
   "id": "c5feeb7e",
   "metadata": {},
   "outputs": [
    {
     "data": {
      "text/plain": [
       "[<matplotlib.lines.Line2D at 0x206ecf7bc90>]"
      ]
     },
     "execution_count": 12,
     "metadata": {},
     "output_type": "execute_result"
    },
    {
     "data": {
      "image/png": "[encoded data removed]",
      "text/plain": [
       "<Figure size 640x480 with 1 Axes>"
      ]
     },
     "metadata": {},
     "output_type": "display_data"
    }
   ],
   "source": [
    "plt.plot(df1)"
   ]
  },
  {
   "cell_type": "code",
   "execution_count": 28,
   "id": "9edfa13b",
   "metadata": {},
   "outputs": [],
   "source": [
    "#LSTM are sensitive to the scale of the data. so we apply minmax scaler\n",
    "from sklearn.preprocessing import MinMaxScaler\n",
    "scaler = MinMaxScaler(feature_range = (0,1))\n",
    "df1 = scaler.fit_transform(np.array(df1).reshape(-1,1))"
   ]
  },
  {
   "cell_type": "code",
   "execution_count": 29,
   "id": "3b84468f",
   "metadata": {},
   "outputs": [
    {
     "data": {
      "text/plain": [
       "array([[0.02191224],\n",
       "       [0.02174973],\n",
       "       [0.01668472],\n",
       "       ...,\n",
       "       [0.73986996],\n",
       "       [0.74257852],\n",
       "       [0.70322317]])"
      ]
     },
     "execution_count": 29,
     "metadata": {},
     "output_type": "execute_result"
    }
   ],
   "source": [
    "df1"
   ]
  },
  {
   "cell_type": "code",
   "execution_count": 30,
   "id": "a3fdb96c",
   "metadata": {},
   "outputs": [],
   "source": [
    "#Splitting dataset into Train and Test split\n",
    "train = int(len(df1)*0.65)\n",
    "test = len(df1) - train\n",
    "train_data, test_data = df1[0:train,:], df1[train:len(df1),:1]"
   ]
  },
  {
   "cell_type": "code",
   "execution_count": 32,
   "id": "159af0f1",
   "metadata": {},
   "outputs": [
    {
     "data": {
      "text/plain": [
       "(1425, 768)"
      ]
     },
     "execution_count": 32,
     "metadata": {},
     "output_type": "execute_result"
    }
   ],
   "source": [
    "train,test"
   ]
  },
  {
   "cell_type": "code",
   "execution_count": 33,
   "id": "86a40579",
   "metadata": {},
   "outputs": [],
   "source": [
    "#Convert an array o values into a dataset matrix\n",
    "def data(dataset, time_step = 1):\n",
    "    dataX, dataY = [], []\n",
    "    for i in range(len(dataset) - time_step - 1):\n",
    "        a = dataset[i:(i+time_step), 0]          #i=0  0,1,2,....,99   100\n",
    "        dataX.append(a)\n",
    "        dataY.append(dataset[i + time_step, 0])\n",
    "    return numpy.array(dataX), numpy.array(dataY)"
   ]
  },
  {
   "cell_type": "code",
   "execution_count": 36,
   "id": "4322bb7c",
   "metadata": {},
   "outputs": [],
   "source": [
    "#Reshape into  X = t, t+1, t+2, t+3 and Y = t+4\n",
    "import numpy\n",
    "time_step = 100\n",
    "X_train, Y_train = data(train_data, time_step)\n",
    "X_test, Y_test = data(test_data, time_step)"
   ]
  },
  {
   "cell_type": "code",
   "execution_count": 38,
   "id": "553f776f",
   "metadata": {},
   "outputs": [
    {
     "data": {
      "text/plain": [
       "((1324, 100), (1324,))"
      ]
     },
     "execution_count": 38,
     "metadata": {},
     "output_type": "execute_result"
    }
   ],
   "source": [
    "X_train.shape, Y_train.shape"
   ]
  },
  {
   "cell_type": "code",
   "execution_count": 40,
   "id": "92d1acda",
   "metadata": {},
   "outputs": [],
   "source": [
    "#Reshape\n",
    "X_train = X_train.reshape(X_train.shape[0], X_train.shape[1], 1)\n",
    "X_test = X_test.reshape(X_test.shape[0], X_test.shape[1], 1)"
   ]
  },
  {
   "cell_type": "code",
   "execution_count": 41,
   "id": "1c02ade9",
   "metadata": {},
   "outputs": [
    {
     "name": "stdout",
     "output_type": "stream",
     "text": [
      "WARNING:tensorflow:From C:\\Users\\senap\\anaconda3\\Lib\\site-packages\\keras\\src\\losses.py:2976: The name tf.losses.sparse_softmax_cross_entropy is deprecated. Please use tf.compat.v1.losses.sparse_softmax_cross_entropy instead.\n",
      "\n"
     ]
    }
   ],
   "source": [
    "#Create LSTM Model\n",
    "from tensorflow.keras.models import Sequential\n",
    "from tensorflow.keras.layers import Dense\n",
    "from tensorflow.keras.layers import LSTM"
   ]
  },
  {
   "cell_type": "code",
   "execution_count": 43,
   "id": "f1f6dbea",
   "metadata": {},
   "outputs": [
    {
     "name": "stdout",
     "output_type": "stream",
     "text": [
      "WARNING:tensorflow:From C:\\Users\\senap\\anaconda3\\Lib\\site-packages\\keras\\src\\backend.py:873: The name tf.get_default_graph is deprecated. Please use tf.compat.v1.get_default_graph instead.\n",
      "\n",
      "WARNING:tensorflow:From C:\\Users\\senap\\anaconda3\\Lib\\site-packages\\keras\\src\\optimizers\\__init__.py:309: The name tf.train.Optimizer is deprecated. Please use tf.compat.v1.train.Optimizer instead.\n",
      "\n"
     ]
    }
   ],
   "source": [
    "model = Sequential()\n",
    "model.add(LSTM(50, return_sequences = True, input_shape = (100,1))) #o/p of x, y(100,1)\n",
    "model.add(LSTM(50, return_sequences = True))\n",
    "model.add(LSTM(50))  \n",
    "model.add(Dense(1))\n",
    "model.compile(loss = 'mean_squared_error', optimizer = 'adam')"
   ]
  },
  {
   "cell_type": "code",
   "execution_count": 44,
   "id": "59a50b55",
   "metadata": {},
   "outputs": [
    {
     "name": "stdout",
     "output_type": "stream",
     "text": [
      "Model: \"sequential\"\n",
      "_________________________________________________________________\n",
      " Layer (type)                Output Shape              Param #   \n",
      "=================================================================\n",
      " lstm (LSTM)                 (None, 100, 50)           10400     \n",
      "                                                                 \n",
      " lstm_1 (LSTM)               (None, 100, 50)           20200     \n",
      "                                                                 \n",
      " lstm_2 (LSTM)               (None, 50)                20200     \n",
      "                                                                 \n",
      " dense (Dense)               (None, 1)                 51        \n",
      "                                                                 \n",
      "=================================================================\n",
      "Total params: 50851 (198.64 KB)\n",
      "Trainable params: 50851 (198.64 KB)\n",
      "Non-trainable params: 0 (0.00 Byte)\n",
      "_________________________________________________________________\n"
     ]
    }
   ],
   "source": [
    "model.summary()"
   ]
  },
  {
   "cell_type": "code",
   "execution_count": 45,
   "id": "053196c1",
   "metadata": {},
   "outputs": [
    {
     "name": "stdout",
     "output_type": "stream",
     "text": [
      "Epoch 1/100\n",
      "WARNING:tensorflow:From C:\\Users\\senap\\anaconda3\\Lib\\site-packages\\keras\\src\\utils\\tf_utils.py:492: The name tf.ragged.RaggedTensorValue is deprecated. Please use tf.compat.v1.ragged.RaggedTensorValue instead.\n",
      "\n",
      "21/21 [==============================] - 17s 327ms/step - loss: 0.0257 - val_loss: 0.0048\n",
      "Epoch 2/100\n",
      "21/21 [==============================] - 4s 199ms/step - loss: 0.0022 - val_loss: 0.0037\n",
      "Epoch 3/100\n",
      "21/21 [==============================] - 4s 202ms/step - loss: 0.0014 - val_loss: 0.0076\n",
      "Epoch 4/100\n",
      "21/21 [==============================] - 4s 200ms/step - loss: 0.0013 - val_loss: 0.0057\n",
      "Epoch 5/100\n",
      "21/21 [==============================] - 4s 201ms/step - loss: 0.0012 - val_loss: 0.0049\n",
      "Epoch 6/100\n",
      "21/21 [==============================] - 4s 199ms/step - loss: 0.0012 - val_loss: 0.0054\n",
      "Epoch 7/100\n",
      "21/21 [==============================] - 4s 201ms/step - loss: 0.0011 - val_loss: 0.0047\n",
      "Epoch 8/100\n",
      "21/21 [==============================] - 4s 200ms/step - loss: 0.0011 - val_loss: 0.0051\n",
      "Epoch 9/100\n",
      "21/21 [==============================] - 4s 169ms/step - loss: 0.0010 - val_loss: 0.0057\n",
      "Epoch 10/100\n",
      "21/21 [==============================] - 4s 180ms/step - loss: 9.8562e-04 - val_loss: 0.0052\n",
      "Epoch 11/100\n",
      "21/21 [==============================] - 4s 193ms/step - loss: 9.1080e-04 - val_loss: 0.0053\n",
      "Epoch 12/100\n",
      "21/21 [==============================] - 4s 191ms/step - loss: 9.2852e-04 - val_loss: 0.0040\n",
      "Epoch 13/100\n",
      "21/21 [==============================] - 4s 176ms/step - loss: 9.1755e-04 - val_loss: 0.0082\n",
      "Epoch 14/100\n",
      "21/21 [==============================] - 4s 191ms/step - loss: 8.6526e-04 - val_loss: 0.0031\n",
      "Epoch 15/100\n",
      "21/21 [==============================] - 4s 187ms/step - loss: 9.4033e-04 - val_loss: 0.0070\n",
      "Epoch 16/100\n",
      "21/21 [==============================] - 4s 192ms/step - loss: 8.0031e-04 - val_loss: 0.0042\n",
      "Epoch 17/100\n",
      "21/21 [==============================] - 4s 174ms/step - loss: 8.3626e-04 - val_loss: 0.0075\n",
      "Epoch 18/100\n",
      "21/21 [==============================] - 4s 199ms/step - loss: 7.7842e-04 - val_loss: 0.0037\n",
      "Epoch 19/100\n",
      "21/21 [==============================] - 4s 190ms/step - loss: 8.3454e-04 - val_loss: 0.0058\n",
      "Epoch 20/100\n",
      "21/21 [==============================] - 4s 189ms/step - loss: 7.6346e-04 - val_loss: 0.0041\n",
      "Epoch 21/100\n",
      "21/21 [==============================] - 4s 204ms/step - loss: 6.7973e-04 - val_loss: 0.0031\n",
      "Epoch 22/100\n",
      "21/21 [==============================] - 4s 213ms/step - loss: 6.7014e-04 - val_loss: 0.0031\n",
      "Epoch 23/100\n",
      "21/21 [==============================] - 4s 211ms/step - loss: 6.7180e-04 - val_loss: 0.0045\n",
      "Epoch 24/100\n",
      "21/21 [==============================] - 4s 189ms/step - loss: 7.0829e-04 - val_loss: 0.0041\n",
      "Epoch 25/100\n",
      "21/21 [==============================] - 4s 198ms/step - loss: 6.4877e-04 - val_loss: 0.0030\n",
      "Epoch 26/100\n",
      "21/21 [==============================] - 4s 184ms/step - loss: 7.0681e-04 - val_loss: 0.0052\n",
      "Epoch 27/100\n",
      "21/21 [==============================] - 4s 179ms/step - loss: 6.0367e-04 - val_loss: 0.0044\n",
      "Epoch 28/100\n",
      "21/21 [==============================] - 4s 177ms/step - loss: 6.0290e-04 - val_loss: 0.0044\n",
      "Epoch 29/100\n",
      "21/21 [==============================] - 4s 199ms/step - loss: 6.5599e-04 - val_loss: 0.0039\n",
      "Epoch 30/100\n",
      "21/21 [==============================] - 4s 198ms/step - loss: 5.8678e-04 - val_loss: 0.0024\n",
      "Epoch 31/100\n",
      "21/21 [==============================] - 4s 198ms/step - loss: 5.8831e-04 - val_loss: 0.0041\n",
      "Epoch 32/100\n",
      "21/21 [==============================] - 4s 199ms/step - loss: 5.6139e-04 - val_loss: 0.0027\n",
      "Epoch 33/100\n",
      "21/21 [==============================] - 4s 189ms/step - loss: 5.5845e-04 - val_loss: 0.0042\n",
      "Epoch 34/100\n",
      "21/21 [==============================] - 4s 192ms/step - loss: 5.4739e-04 - val_loss: 0.0028\n",
      "Epoch 35/100\n",
      "21/21 [==============================] - 4s 198ms/step - loss: 5.2007e-04 - val_loss: 0.0035\n",
      "Epoch 36/100\n",
      "21/21 [==============================] - 4s 198ms/step - loss: 5.3359e-04 - val_loss: 0.0019\n",
      "Epoch 37/100\n",
      "21/21 [==============================] - 4s 200ms/step - loss: 5.1974e-04 - val_loss: 0.0023\n",
      "Epoch 38/100\n",
      "21/21 [==============================] - 4s 198ms/step - loss: 6.0803e-04 - val_loss: 0.0021\n",
      "Epoch 39/100\n",
      "21/21 [==============================] - 4s 190ms/step - loss: 5.5163e-04 - val_loss: 0.0034\n",
      "Epoch 40/100\n",
      "21/21 [==============================] - 4s 200ms/step - loss: 5.5992e-04 - val_loss: 0.0038\n",
      "Epoch 41/100\n",
      "21/21 [==============================] - 4s 200ms/step - loss: 5.4324e-04 - val_loss: 0.0031\n",
      "Epoch 42/100\n",
      "21/21 [==============================] - 4s 199ms/step - loss: 5.1579e-04 - val_loss: 0.0028\n",
      "Epoch 43/100\n",
      "21/21 [==============================] - 4s 196ms/step - loss: 4.7778e-04 - val_loss: 0.0021\n",
      "Epoch 44/100\n",
      "21/21 [==============================] - 4s 204ms/step - loss: 5.2216e-04 - val_loss: 0.0017\n",
      "Epoch 45/100\n",
      "21/21 [==============================] - 4s 189ms/step - loss: 4.6553e-04 - val_loss: 0.0021\n",
      "Epoch 46/100\n",
      "21/21 [==============================] - 4s 192ms/step - loss: 4.5651e-04 - val_loss: 0.0019\n",
      "Epoch 47/100\n",
      "21/21 [==============================] - 4s 183ms/step - loss: 4.2718e-04 - val_loss: 0.0016\n",
      "Epoch 48/100\n",
      "21/21 [==============================] - 4s 198ms/step - loss: 4.4262e-04 - val_loss: 0.0021\n",
      "Epoch 49/100\n",
      "21/21 [==============================] - 4s 201ms/step - loss: 4.9884e-04 - val_loss: 0.0031\n",
      "Epoch 50/100\n",
      "21/21 [==============================] - 4s 199ms/step - loss: 4.3372e-04 - val_loss: 0.0013\n",
      "Epoch 51/100\n",
      "21/21 [==============================] - 4s 201ms/step - loss: 4.1975e-04 - val_loss: 0.0013\n",
      "Epoch 52/100\n",
      "21/21 [==============================] - 4s 199ms/step - loss: 4.2136e-04 - val_loss: 0.0014\n",
      "Epoch 53/100\n",
      "21/21 [==============================] - 4s 194ms/step - loss: 4.0354e-04 - val_loss: 0.0013\n",
      "Epoch 54/100\n",
      "21/21 [==============================] - 4s 181ms/step - loss: 4.0585e-04 - val_loss: 0.0013\n",
      "Epoch 55/100\n",
      "21/21 [==============================] - 4s 196ms/step - loss: 3.7806e-04 - val_loss: 0.0014\n",
      "Epoch 56/100\n",
      "21/21 [==============================] - 4s 198ms/step - loss: 3.7718e-04 - val_loss: 0.0033\n",
      "Epoch 57/100\n",
      "21/21 [==============================] - 4s 198ms/step - loss: 4.6672e-04 - val_loss: 0.0025\n",
      "Epoch 58/100\n",
      "21/21 [==============================] - 4s 199ms/step - loss: 3.6291e-04 - val_loss: 0.0011\n",
      "Epoch 59/100\n",
      "21/21 [==============================] - 4s 198ms/step - loss: 3.6325e-04 - val_loss: 0.0013\n",
      "Epoch 60/100\n",
      "21/21 [==============================] - 4s 188ms/step - loss: 3.3897e-04 - val_loss: 0.0021\n",
      "Epoch 61/100\n",
      "21/21 [==============================] - 4s 191ms/step - loss: 3.5018e-04 - val_loss: 0.0012\n",
      "Epoch 62/100\n",
      "21/21 [==============================] - 4s 171ms/step - loss: 3.5575e-04 - val_loss: 9.8054e-04\n",
      "Epoch 63/100\n",
      "21/21 [==============================] - 4s 199ms/step - loss: 3.4618e-04 - val_loss: 0.0014\n",
      "Epoch 64/100\n",
      "21/21 [==============================] - 4s 198ms/step - loss: 3.1950e-04 - val_loss: 0.0018\n",
      "Epoch 65/100\n",
      "21/21 [==============================] - 4s 198ms/step - loss: 3.7850e-04 - val_loss: 0.0010\n",
      "Epoch 66/100\n",
      "21/21 [==============================] - 4s 187ms/step - loss: 3.5665e-04 - val_loss: 0.0024\n",
      "Epoch 67/100\n",
      "21/21 [==============================] - 4s 192ms/step - loss: 3.9144e-04 - val_loss: 0.0014\n",
      "Epoch 68/100\n",
      "21/21 [==============================] - 4s 193ms/step - loss: 3.1104e-04 - val_loss: 0.0011\n",
      "Epoch 69/100\n",
      "21/21 [==============================] - 4s 193ms/step - loss: 3.1991e-04 - val_loss: 9.0069e-04\n",
      "Epoch 70/100\n",
      "21/21 [==============================] - 4s 198ms/step - loss: 3.1478e-04 - val_loss: 9.5697e-04\n",
      "Epoch 71/100\n",
      "21/21 [==============================] - 4s 198ms/step - loss: 3.1485e-04 - val_loss: 0.0014\n",
      "Epoch 72/100\n",
      "21/21 [==============================] - 4s 199ms/step - loss: 2.9048e-04 - val_loss: 9.7586e-04\n",
      "Epoch 73/100\n",
      "21/21 [==============================] - 4s 197ms/step - loss: 3.6505e-04 - val_loss: 0.0017\n",
      "Epoch 74/100\n",
      "21/21 [==============================] - 4s 198ms/step - loss: 2.9726e-04 - val_loss: 0.0014\n",
      "Epoch 75/100\n",
      "21/21 [==============================] - 4s 188ms/step - loss: 2.8602e-04 - val_loss: 0.0010\n",
      "Epoch 76/100\n",
      "21/21 [==============================] - 4s 191ms/step - loss: 2.7410e-04 - val_loss: 0.0012\n",
      "Epoch 77/100\n",
      "21/21 [==============================] - 4s 196ms/step - loss: 2.6418e-04 - val_loss: 9.4926e-04\n",
      "Epoch 78/100\n",
      "21/21 [==============================] - 4s 201ms/step - loss: 2.6367e-04 - val_loss: 0.0012\n",
      "Epoch 79/100\n",
      "21/21 [==============================] - 4s 199ms/step - loss: 2.5897e-04 - val_loss: 0.0011\n",
      "Epoch 80/100\n",
      "21/21 [==============================] - 4s 200ms/step - loss: 3.1103e-04 - val_loss: 0.0011\n",
      "Epoch 81/100\n",
      "21/21 [==============================] - 4s 199ms/step - loss: 2.8054e-04 - val_loss: 0.0020\n",
      "Epoch 82/100\n",
      "21/21 [==============================] - 4s 206ms/step - loss: 2.6789e-04 - val_loss: 9.3362e-04\n",
      "Epoch 83/100\n",
      "21/21 [==============================] - 4s 187ms/step - loss: 2.3658e-04 - val_loss: 8.3282e-04\n",
      "Epoch 84/100\n",
      "21/21 [==============================] - 4s 194ms/step - loss: 2.5334e-04 - val_loss: 8.7000e-04\n",
      "Epoch 85/100\n",
      "21/21 [==============================] - 4s 195ms/step - loss: 2.3169e-04 - val_loss: 0.0011\n",
      "Epoch 86/100\n",
      "21/21 [==============================] - 4s 199ms/step - loss: 2.6509e-04 - val_loss: 7.8716e-04\n",
      "Epoch 87/100\n",
      "21/21 [==============================] - 4s 198ms/step - loss: 2.9742e-04 - val_loss: 0.0020\n",
      "Epoch 88/100\n",
      "21/21 [==============================] - 4s 199ms/step - loss: 2.3948e-04 - val_loss: 0.0011\n",
      "Epoch 89/100\n",
      "21/21 [==============================] - 4s 200ms/step - loss: 2.1728e-04 - val_loss: 8.0154e-04\n",
      "Epoch 90/100\n",
      "21/21 [==============================] - 4s 196ms/step - loss: 2.8300e-04 - val_loss: 0.0024\n",
      "Epoch 91/100\n",
      "21/21 [==============================] - 4s 175ms/step - loss: 2.7030e-04 - val_loss: 8.7593e-04\n",
      "Epoch 92/100\n",
      "21/21 [==============================] - 4s 182ms/step - loss: 2.2685e-04 - val_loss: 9.8102e-04\n",
      "Epoch 93/100\n",
      "21/21 [==============================] - 4s 196ms/step - loss: 2.2757e-04 - val_loss: 7.6036e-04\n",
      "Epoch 94/100\n",
      "21/21 [==============================] - 4s 199ms/step - loss: 2.0723e-04 - val_loss: 0.0011\n",
      "Epoch 95/100\n",
      "21/21 [==============================] - 4s 197ms/step - loss: 2.0597e-04 - val_loss: 0.0014\n",
      "Epoch 96/100\n",
      "21/21 [==============================] - 4s 195ms/step - loss: 2.1464e-04 - val_loss: 8.0348e-04\n",
      "Epoch 97/100\n",
      "21/21 [==============================] - 4s 172ms/step - loss: 2.6271e-04 - val_loss: 7.3513e-04\n",
      "Epoch 98/100\n",
      "21/21 [==============================] - 4s 189ms/step - loss: 2.3633e-04 - val_loss: 0.0013\n",
      "Epoch 99/100\n",
      "21/21 [==============================] - 4s 194ms/step - loss: 2.0959e-04 - val_loss: 9.1772e-04\n",
      "Epoch 100/100\n",
      "21/21 [==============================] - 4s 196ms/step - loss: 1.9718e-04 - val_loss: 7.7646e-04\n"
     ]
    },
    {
     "data": {
      "text/plain": [
       "<keras.src.callbacks.History at 0x206f91dcf10>"
      ]
     },
     "execution_count": 45,
     "metadata": {},
     "output_type": "execute_result"
    }
   ],
   "source": [
    "model.fit(X_train, Y_train, validation_data = (X_test, Y_test), epochs = 100, batch_size = 64, verbose = 1)"
   ]
  },
  {
   "cell_type": "code",
   "execution_count": 46,
   "id": "24e21737",
   "metadata": {},
   "outputs": [],
   "source": [
    "import tensorflow as tf"
   ]
  },
  {
   "cell_type": "code",
   "execution_count": 49,
   "id": "df76fba5",
   "metadata": {},
   "outputs": [
    {
     "name": "stdout",
     "output_type": "stream",
     "text": [
      "42/42 [==============================] - 5s 42ms/step\n",
      "21/21 [==============================] - 1s 44ms/step\n"
     ]
    }
   ],
   "source": [
    "#Prediction and check performance metrics\n",
    "train_pred = model.predict(X_train)\n",
    "test_pred = model.predict(X_test)"
   ]
  },
  {
   "cell_type": "code",
   "execution_count": 50,
   "id": "46d7e67e",
   "metadata": {},
   "outputs": [],
   "source": [
    "#Transformback to original form\n",
    "train_pred = scaler.inverse_transform(train_pred)\n",
    "test_pred = scaler.inverse_transform(test_pred)"
   ]
  },
  {
   "cell_type": "code",
   "execution_count": 51,
   "id": "710b7b76",
   "metadata": {},
   "outputs": [
    {
     "data": {
      "text/plain": [
       "154.64505168885302"
      ]
     },
     "execution_count": 51,
     "metadata": {},
     "output_type": "execute_result"
    }
   ],
   "source": [
    "#Calculate RMSE prformance metrics\n",
    "import math\n",
    "from sklearn.metrics import mean_squared_error\n",
    "math.sqrt(mean_squared_error(Y_train, train_pred))"
   ]
  },
  {
   "cell_type": "code",
   "execution_count": 52,
   "id": "404f163f",
   "metadata": {},
   "outputs": [
    {
     "data": {
      "text/plain": [
       "295.58841250713607"
      ]
     },
     "execution_count": 52,
     "metadata": {},
     "output_type": "execute_result"
    }
   ],
   "source": [
    "#RMSE of test data\n",
    "math.sqrt(mean_squared_error(Y_test, test_pred))"
   ]
  },
  {
   "cell_type": "code",
   "execution_count": 54,
   "id": "44969015",
   "metadata": {},
   "outputs": [
    {
     "data": {
      "image/png": "[encoded data removed]",
      "text/plain": [
       "<Figure size 640x480 with 1 Axes>"
      ]
     },
     "metadata": {},
     "output_type": "display_data"
    }
   ],
   "source": [
    "#Plotting\n",
    "#Shift train predictions for plotting\n",
    "look_back = 100\n",
    "trainPredictPlot = numpy.empty_like(df1)\n",
    "trainPredictPlot[:, :] = np.nan\n",
    "trainPredictPlot[look_back:len(train_pred)+look_back, :] = train_pred\n",
    "#Shift test predictions for plotting\n",
    "testPredictPlot = numpy.empty_like(df1)\n",
    "testPredictPlot[:, :] = np.nan\n",
    "testPredictPlot[len(train_pred)+(look_back*2)+1:len(df1)-1, :] = test_pred\n",
    "#plot baseline and predictions\n",
    "plt.plot(scaler.inverse_transform(df1))\n",
    "plt.plot(trainPredictPlot)\n",
    "plt.plot(testPredictPlot)\n",
    "plt.show()"
   ]
  },
  {
   "cell_type": "code",
   "execution_count": 55,
   "id": "6e3d826b",
   "metadata": {},
   "outputs": [
    {
     "data": {
      "text/plain": [
       "768"
      ]
     },
     "execution_count": 55,
     "metadata": {},
     "output_type": "execute_result"
    }
   ],
   "source": [
    "len(test_data)"
   ]
  },
  {
   "cell_type": "code",
   "execution_count": 56,
   "id": "f2ba3301",
   "metadata": {},
   "outputs": [
    {
     "data": {
      "text/plain": [
       "(1, 100)"
      ]
     },
     "execution_count": 56,
     "metadata": {},
     "output_type": "execute_result"
    }
   ],
   "source": [
    "x_input = test_data[668:].reshape(1,-1)\n",
    "x_input.shape"
   ]
  },
  {
   "cell_type": "code",
   "execution_count": 60,
   "id": "04c76ec9",
   "metadata": {},
   "outputs": [
    {
     "data": {
      "text/plain": [
       "[0.661430119176598,\n",
       " 0.6640032827735645,\n",
       " 0.7539003656554712,\n",
       " 0.7386240520043337,\n",
       " 0.810021627843987,\n",
       " 0.8534669393282773,\n",
       " 0.8641657800650054,\n",
       " 0.8507583802816902,\n",
       " 0.8708559236186348,\n",
       " 0.8897074729144094,\n",
       " 0.8954767172264355,\n",
       " 0.881906809317443,\n",
       " 0.8809859100758397,\n",
       " 0.9002166955579632,\n",
       " 0.9089923997833153,\n",
       " 0.9065818255687974,\n",
       " 0.8544962053087757,\n",
       " 0.874675002708559,\n",
       " 0.8889490790899242,\n",
       " 0.9009750866738895,\n",
       " 0.9168743174431203,\n",
       " 0.9145991359696641,\n",
       " 0.898401923076923,\n",
       " 0.8732123564463705,\n",
       " 0.8397345260021669,\n",
       " 0.8943661971830986,\n",
       " 0.8887324295774647,\n",
       " 0.8994311890574215,\n",
       " 0.8812838921993499,\n",
       " 0.9065005715059588,\n",
       " 0.9281960725893824,\n",
       " 0.931473488624052,\n",
       " 0.9405742091007584,\n",
       " 0.9267876516793067,\n",
       " 0.9462350866738894,\n",
       " 0.9505959100758397,\n",
       " 0.9501625297941495,\n",
       " 0.9777627546045503,\n",
       " 0.9477518716143012,\n",
       " 0.9009209452871072,\n",
       " 0.8700704198266521,\n",
       " 0.8590736755146263,\n",
       " 0.8114301327193932,\n",
       " 0.8233206635969664,\n",
       " 0.7572860644637053,\n",
       " 0.8404387757313109,\n",
       " 0.8134615520043337,\n",
       " 0.8615113624052004,\n",
       " 0.8586131852654387,\n",
       " 0.7971830850487541,\n",
       " 0.7707475216684724,\n",
       " 0.8176868959913326,\n",
       " 0.8644636809317443,\n",
       " 0.865520059588299,\n",
       " 0.874133258396533,\n",
       " 0.8915763840736729,\n",
       " 0.897779008667389,\n",
       " 0.8629468959913326,\n",
       " 0.8901137405200434,\n",
       " 0.8945015926327193,\n",
       " 0.8979144041170097,\n",
       " 0.7758938515709642,\n",
       " 0.76684727248104,\n",
       " 0.7361592524377031,\n",
       " 0.7467768418201517,\n",
       " 0.7617551706392199,\n",
       " 0.7599675108342361,\n",
       " 0.7628927166847237,\n",
       " 0.793526514084507,\n",
       " 0.7887865357529794,\n",
       " 0.8028439626218852,\n",
       " 0.8046858477789816,\n",
       " 0.827600232936078,\n",
       " 0.8164138705308777,\n",
       " 0.7901137865655472,\n",
       " 0.7854820910075839,\n",
       " 0.8045503683640303,\n",
       " 0.8017605579631636,\n",
       " 0.7919014436619718,\n",
       " 0.779983718851571,\n",
       " 0.7911159398699891,\n",
       " 0.7850487946912242,\n",
       " 0.7767063867822318,\n",
       " 0.7460184479956663,\n",
       " 0.7554441793066089,\n",
       " 0.7664409236186349,\n",
       " 0.7639761240520043,\n",
       " 0.8096966143011917,\n",
       " 0.8236186484290356,\n",
       " 0.7556609127843987,\n",
       " 0.7301191359696642,\n",
       " 0.706229710184182,\n",
       " 0.7054170910075839,\n",
       " 0.7063651029252437,\n",
       " 0.7268147751895991,\n",
       " 0.7451788001083423,\n",
       " 0.7247020178764897,\n",
       " 0.7398699647887323,\n",
       " 0.7425785238353196,\n",
       " 0.7032231663055255]"
      ]
     },
     "execution_count": 60,
     "metadata": {},
     "output_type": "execute_result"
    }
   ],
   "source": [
    "temp_input = list(x_input)\n",
    "temp_input = temp_input[0].tolist()\n",
    "temp_input"
   ]
  },
  {
   "cell_type": "code",
   "execution_count": 62,
   "id": "e48e2511",
   "metadata": {},
   "outputs": [
    {
     "name": "stdout",
     "output_type": "stream",
     "text": [
      "[0.7082855]\n",
      "101\n",
      "1 day input [0.66400328 0.75390037 0.73862405 0.81002163 0.85346694 0.86416578\n",
      " 0.85075838 0.87085592 0.88970747 0.89547672 0.88190681 0.88098591\n",
      " 0.9002167  0.9089924  0.90658183 0.85449621 0.874675   0.88894908\n",
      " 0.90097509 0.91687432 0.91459914 0.89840192 0.87321236 0.83973453\n",
      " 0.8943662  0.88873243 0.89943119 0.88128389 0.90650057 0.92819607\n",
      " 0.93147349 0.94057421 0.92678765 0.94623509 0.95059591 0.95016253\n",
      " 0.97776275 0.94775187 0.90092095 0.87007042 0.85907368 0.81143013\n",
      " 0.82332066 0.75728606 0.84043878 0.81346155 0.86151136 0.85861319\n",
      " 0.79718309 0.77074752 0.8176869  0.86446368 0.86552006 0.87413326\n",
      " 0.89157638 0.89777901 0.8629469  0.89011374 0.89450159 0.8979144\n",
      " 0.77589385 0.76684727 0.73615925 0.74677684 0.76175517 0.75996751\n",
      " 0.76289272 0.79352651 0.78878654 0.80284396 0.80468585 0.82760023\n",
      " 0.81641387 0.79011379 0.78548209 0.80455037 0.80176056 0.79190144\n",
      " 0.77998372 0.79111594 0.78504879 0.77670639 0.74601845 0.75544418\n",
      " 0.76644092 0.76397612 0.80969661 0.82361865 0.75566091 0.73011914\n",
      " 0.70622971 0.70541709 0.7063651  0.72681478 0.7451788  0.72470202\n",
      " 0.73986996 0.74257852 0.70322317 0.70828551]\n",
      "1 day output [[0.6987387]]\n",
      "2 day input [0.75390037 0.73862405 0.81002163 0.85346694 0.86416578 0.85075838\n",
      " 0.87085592 0.88970747 0.89547672 0.88190681 0.88098591 0.9002167\n",
      " 0.9089924  0.90658183 0.85449621 0.874675   0.88894908 0.90097509\n",
      " 0.91687432 0.91459914 0.89840192 0.87321236 0.83973453 0.8943662\n",
      " 0.88873243 0.89943119 0.88128389 0.90650057 0.92819607 0.93147349\n",
      " 0.94057421 0.92678765 0.94623509 0.95059591 0.95016253 0.97776275\n",
      " 0.94775187 0.90092095 0.87007042 0.85907368 0.81143013 0.82332066\n",
      " 0.75728606 0.84043878 0.81346155 0.86151136 0.85861319 0.79718309\n",
      " 0.77074752 0.8176869  0.86446368 0.86552006 0.87413326 0.89157638\n",
      " 0.89777901 0.8629469  0.89011374 0.89450159 0.8979144  0.77589385\n",
      " 0.76684727 0.73615925 0.74677684 0.76175517 0.75996751 0.76289272\n",
      " 0.79352651 0.78878654 0.80284396 0.80468585 0.82760023 0.81641387\n",
      " 0.79011379 0.78548209 0.80455037 0.80176056 0.79190144 0.77998372\n",
      " 0.79111594 0.78504879 0.77670639 0.74601845 0.75544418 0.76644092\n",
      " 0.76397612 0.80969661 0.82361865 0.75566091 0.73011914 0.70622971\n",
      " 0.70541709 0.7063651  0.72681478 0.7451788  0.72470202 0.73986996\n",
      " 0.74257852 0.70322317 0.70828551 0.69873869]\n",
      "2 day output [[0.69453305]]\n",
      "3 day input [0.73862405 0.81002163 0.85346694 0.86416578 0.85075838 0.87085592\n",
      " 0.88970747 0.89547672 0.88190681 0.88098591 0.9002167  0.9089924\n",
      " 0.90658183 0.85449621 0.874675   0.88894908 0.90097509 0.91687432\n",
      " 0.91459914 0.89840192 0.87321236 0.83973453 0.8943662  0.88873243\n",
      " 0.89943119 0.88128389 0.90650057 0.92819607 0.93147349 0.94057421\n",
      " 0.92678765 0.94623509 0.95059591 0.95016253 0.97776275 0.94775187\n",
      " 0.90092095 0.87007042 0.85907368 0.81143013 0.82332066 0.75728606\n",
      " 0.84043878 0.81346155 0.86151136 0.85861319 0.79718309 0.77074752\n",
      " 0.8176869  0.86446368 0.86552006 0.87413326 0.89157638 0.89777901\n",
      " 0.8629469  0.89011374 0.89450159 0.8979144  0.77589385 0.76684727\n",
      " 0.73615925 0.74677684 0.76175517 0.75996751 0.76289272 0.79352651\n",
      " 0.78878654 0.80284396 0.80468585 0.82760023 0.81641387 0.79011379\n",
      " 0.78548209 0.80455037 0.80176056 0.79190144 0.77998372 0.79111594\n",
      " 0.78504879 0.77670639 0.74601845 0.75544418 0.76644092 0.76397612\n",
      " 0.80969661 0.82361865 0.75566091 0.73011914 0.70622971 0.70541709\n",
      " 0.7063651  0.72681478 0.7451788  0.72470202 0.73986996 0.74257852\n",
      " 0.70322317 0.70828551 0.69873869 0.69453305]\n",
      "3 day output [[0.69250894]]\n",
      "4 day input [0.81002163 0.85346694 0.86416578 0.85075838 0.87085592 0.88970747\n",
      " 0.89547672 0.88190681 0.88098591 0.9002167  0.9089924  0.90658183\n",
      " 0.85449621 0.874675   0.88894908 0.90097509 0.91687432 0.91459914\n",
      " 0.89840192 0.87321236 0.83973453 0.8943662  0.88873243 0.89943119\n",
      " 0.88128389 0.90650057 0.92819607 0.93147349 0.94057421 0.92678765\n",
      " 0.94623509 0.95059591 0.95016253 0.97776275 0.94775187 0.90092095\n",
      " 0.87007042 0.85907368 0.81143013 0.82332066 0.75728606 0.84043878\n",
      " 0.81346155 0.86151136 0.85861319 0.79718309 0.77074752 0.8176869\n",
      " 0.86446368 0.86552006 0.87413326 0.89157638 0.89777901 0.8629469\n",
      " 0.89011374 0.89450159 0.8979144  0.77589385 0.76684727 0.73615925\n",
      " 0.74677684 0.76175517 0.75996751 0.76289272 0.79352651 0.78878654\n",
      " 0.80284396 0.80468585 0.82760023 0.81641387 0.79011379 0.78548209\n",
      " 0.80455037 0.80176056 0.79190144 0.77998372 0.79111594 0.78504879\n",
      " 0.77670639 0.74601845 0.75544418 0.76644092 0.76397612 0.80969661\n",
      " 0.82361865 0.75566091 0.73011914 0.70622971 0.70541709 0.7063651\n",
      " 0.72681478 0.7451788  0.72470202 0.73986996 0.74257852 0.70322317\n",
      " 0.70828551 0.69873869 0.69453305 0.69250894]\n",
      "4 day output [[0.6917512]]\n",
      "5 day input [0.85346694 0.86416578 0.85075838 0.87085592 0.88970747 0.89547672\n",
      " 0.88190681 0.88098591 0.9002167  0.9089924  0.90658183 0.85449621\n",
      " 0.874675   0.88894908 0.90097509 0.91687432 0.91459914 0.89840192\n",
      " 0.87321236 0.83973453 0.8943662  0.88873243 0.89943119 0.88128389\n",
      " 0.90650057 0.92819607 0.93147349 0.94057421 0.92678765 0.94623509\n",
      " 0.95059591 0.95016253 0.97776275 0.94775187 0.90092095 0.87007042\n",
      " 0.85907368 0.81143013 0.82332066 0.75728606 0.84043878 0.81346155\n",
      " 0.86151136 0.85861319 0.79718309 0.77074752 0.8176869  0.86446368\n",
      " 0.86552006 0.87413326 0.89157638 0.89777901 0.8629469  0.89011374\n",
      " 0.89450159 0.8979144  0.77589385 0.76684727 0.73615925 0.74677684\n",
      " 0.76175517 0.75996751 0.76289272 0.79352651 0.78878654 0.80284396\n",
      " 0.80468585 0.82760023 0.81641387 0.79011379 0.78548209 0.80455037\n",
      " 0.80176056 0.79190144 0.77998372 0.79111594 0.78504879 0.77670639\n",
      " 0.74601845 0.75544418 0.76644092 0.76397612 0.80969661 0.82361865\n",
      " 0.75566091 0.73011914 0.70622971 0.70541709 0.7063651  0.72681478\n",
      " 0.7451788  0.72470202 0.73986996 0.74257852 0.70322317 0.70828551\n",
      " 0.69873869 0.69453305 0.69250894 0.69175118]\n",
      "5 day output [[0.6915359]]\n",
      "6 day input [0.86416578 0.85075838 0.87085592 0.88970747 0.89547672 0.88190681\n",
      " 0.88098591 0.9002167  0.9089924  0.90658183 0.85449621 0.874675\n",
      " 0.88894908 0.90097509 0.91687432 0.91459914 0.89840192 0.87321236\n",
      " 0.83973453 0.8943662  0.88873243 0.89943119 0.88128389 0.90650057\n",
      " 0.92819607 0.93147349 0.94057421 0.92678765 0.94623509 0.95059591\n",
      " 0.95016253 0.97776275 0.94775187 0.90092095 0.87007042 0.85907368\n",
      " 0.81143013 0.82332066 0.75728606 0.84043878 0.81346155 0.86151136\n",
      " 0.85861319 0.79718309 0.77074752 0.8176869  0.86446368 0.86552006\n",
      " 0.87413326 0.89157638 0.89777901 0.8629469  0.89011374 0.89450159\n",
      " 0.8979144  0.77589385 0.76684727 0.73615925 0.74677684 0.76175517\n",
      " 0.75996751 0.76289272 0.79352651 0.78878654 0.80284396 0.80468585\n",
      " 0.82760023 0.81641387 0.79011379 0.78548209 0.80455037 0.80176056\n",
      " 0.79190144 0.77998372 0.79111594 0.78504879 0.77670639 0.74601845\n",
      " 0.75544418 0.76644092 0.76397612 0.80969661 0.82361865 0.75566091\n",
      " 0.73011914 0.70622971 0.70541709 0.7063651  0.72681478 0.7451788\n",
      " 0.72470202 0.73986996 0.74257852 0.70322317 0.70828551 0.69873869\n",
      " 0.69453305 0.69250894 0.69175118 0.69153589]\n",
      "6 day output [[0.69129866]]\n",
      "7 day input [0.85075838 0.87085592 0.88970747 0.89547672 0.88190681 0.88098591\n",
      " 0.9002167  0.9089924  0.90658183 0.85449621 0.874675   0.88894908\n",
      " 0.90097509 0.91687432 0.91459914 0.89840192 0.87321236 0.83973453\n",
      " 0.8943662  0.88873243 0.89943119 0.88128389 0.90650057 0.92819607\n",
      " 0.93147349 0.94057421 0.92678765 0.94623509 0.95059591 0.95016253\n",
      " 0.97776275 0.94775187 0.90092095 0.87007042 0.85907368 0.81143013\n",
      " 0.82332066 0.75728606 0.84043878 0.81346155 0.86151136 0.85861319\n",
      " 0.79718309 0.77074752 0.8176869  0.86446368 0.86552006 0.87413326\n",
      " 0.89157638 0.89777901 0.8629469  0.89011374 0.89450159 0.8979144\n",
      " 0.77589385 0.76684727 0.73615925 0.74677684 0.76175517 0.75996751\n",
      " 0.76289272 0.79352651 0.78878654 0.80284396 0.80468585 0.82760023\n",
      " 0.81641387 0.79011379 0.78548209 0.80455037 0.80176056 0.79190144\n",
      " 0.77998372 0.79111594 0.78504879 0.77670639 0.74601845 0.75544418\n",
      " 0.76644092 0.76397612 0.80969661 0.82361865 0.75566091 0.73011914\n",
      " 0.70622971 0.70541709 0.7063651  0.72681478 0.7451788  0.72470202\n",
      " 0.73986996 0.74257852 0.70322317 0.70828551 0.69873869 0.69453305\n",
      " 0.69250894 0.69175118 0.69153589 0.69129866]\n",
      "7 day output [[0.69070554]]\n",
      "8 day input [0.87085592 0.88970747 0.89547672 0.88190681 0.88098591 0.9002167\n",
      " 0.9089924  0.90658183 0.85449621 0.874675   0.88894908 0.90097509\n",
      " 0.91687432 0.91459914 0.89840192 0.87321236 0.83973453 0.8943662\n",
      " 0.88873243 0.89943119 0.88128389 0.90650057 0.92819607 0.93147349\n",
      " 0.94057421 0.92678765 0.94623509 0.95059591 0.95016253 0.97776275\n",
      " 0.94775187 0.90092095 0.87007042 0.85907368 0.81143013 0.82332066\n",
      " 0.75728606 0.84043878 0.81346155 0.86151136 0.85861319 0.79718309\n",
      " 0.77074752 0.8176869  0.86446368 0.86552006 0.87413326 0.89157638\n",
      " 0.89777901 0.8629469  0.89011374 0.89450159 0.8979144  0.77589385\n",
      " 0.76684727 0.73615925 0.74677684 0.76175517 0.75996751 0.76289272\n",
      " 0.79352651 0.78878654 0.80284396 0.80468585 0.82760023 0.81641387\n",
      " 0.79011379 0.78548209 0.80455037 0.80176056 0.79190144 0.77998372\n",
      " 0.79111594 0.78504879 0.77670639 0.74601845 0.75544418 0.76644092\n",
      " 0.76397612 0.80969661 0.82361865 0.75566091 0.73011914 0.70622971\n",
      " 0.70541709 0.7063651  0.72681478 0.7451788  0.72470202 0.73986996\n",
      " 0.74257852 0.70322317 0.70828551 0.69873869 0.69453305 0.69250894\n",
      " 0.69175118 0.69153589 0.69129866 0.69070554]\n",
      "8 day output [[0.6896418]]\n",
      "9 day input [0.88970747 0.89547672 0.88190681 0.88098591 0.9002167  0.9089924\n",
      " 0.90658183 0.85449621 0.874675   0.88894908 0.90097509 0.91687432\n",
      " 0.91459914 0.89840192 0.87321236 0.83973453 0.8943662  0.88873243\n",
      " 0.89943119 0.88128389 0.90650057 0.92819607 0.93147349 0.94057421\n",
      " 0.92678765 0.94623509 0.95059591 0.95016253 0.97776275 0.94775187\n",
      " 0.90092095 0.87007042 0.85907368 0.81143013 0.82332066 0.75728606\n",
      " 0.84043878 0.81346155 0.86151136 0.85861319 0.79718309 0.77074752\n",
      " 0.8176869  0.86446368 0.86552006 0.87413326 0.89157638 0.89777901\n",
      " 0.8629469  0.89011374 0.89450159 0.8979144  0.77589385 0.76684727\n",
      " 0.73615925 0.74677684 0.76175517 0.75996751 0.76289272 0.79352651\n",
      " 0.78878654 0.80284396 0.80468585 0.82760023 0.81641387 0.79011379\n",
      " 0.78548209 0.80455037 0.80176056 0.79190144 0.77998372 0.79111594\n",
      " 0.78504879 0.77670639 0.74601845 0.75544418 0.76644092 0.76397612\n",
      " 0.80969661 0.82361865 0.75566091 0.73011914 0.70622971 0.70541709\n",
      " 0.7063651  0.72681478 0.7451788  0.72470202 0.73986996 0.74257852\n",
      " 0.70322317 0.70828551 0.69873869 0.69453305 0.69250894 0.69175118\n",
      " 0.69153589 0.69129866 0.69070554 0.68964177]\n",
      "9 day output [[0.688159]]\n",
      "10 day input [0.89547672 0.88190681 0.88098591 0.9002167  0.9089924  0.90658183\n",
      " 0.85449621 0.874675   0.88894908 0.90097509 0.91687432 0.91459914\n",
      " 0.89840192 0.87321236 0.83973453 0.8943662  0.88873243 0.89943119\n",
      " 0.88128389 0.90650057 0.92819607 0.93147349 0.94057421 0.92678765\n",
      " 0.94623509 0.95059591 0.95016253 0.97776275 0.94775187 0.90092095\n",
      " 0.87007042 0.85907368 0.81143013 0.82332066 0.75728606 0.84043878\n",
      " 0.81346155 0.86151136 0.85861319 0.79718309 0.77074752 0.8176869\n",
      " 0.86446368 0.86552006 0.87413326 0.89157638 0.89777901 0.8629469\n",
      " 0.89011374 0.89450159 0.8979144  0.77589385 0.76684727 0.73615925\n",
      " 0.74677684 0.76175517 0.75996751 0.76289272 0.79352651 0.78878654\n",
      " 0.80284396 0.80468585 0.82760023 0.81641387 0.79011379 0.78548209\n",
      " 0.80455037 0.80176056 0.79190144 0.77998372 0.79111594 0.78504879\n",
      " 0.77670639 0.74601845 0.75544418 0.76644092 0.76397612 0.80969661\n",
      " 0.82361865 0.75566091 0.73011914 0.70622971 0.70541709 0.7063651\n",
      " 0.72681478 0.7451788  0.72470202 0.73986996 0.74257852 0.70322317\n",
      " 0.70828551 0.69873869 0.69453305 0.69250894 0.69175118 0.69153589\n",
      " 0.69129866 0.69070554 0.68964177 0.68815899]\n",
      "10 day output [[0.6864061]]\n",
      "11 day input [0.88190681 0.88098591 0.9002167  0.9089924  0.90658183 0.85449621\n",
      " 0.874675   0.88894908 0.90097509 0.91687432 0.91459914 0.89840192\n",
      " 0.87321236 0.83973453 0.8943662  0.88873243 0.89943119 0.88128389\n",
      " 0.90650057 0.92819607 0.93147349 0.94057421 0.92678765 0.94623509\n",
      " 0.95059591 0.95016253 0.97776275 0.94775187 0.90092095 0.87007042\n",
      " 0.85907368 0.81143013 0.82332066 0.75728606 0.84043878 0.81346155\n",
      " 0.86151136 0.85861319 0.79718309 0.77074752 0.8176869  0.86446368\n",
      " 0.86552006 0.87413326 0.89157638 0.89777901 0.8629469  0.89011374\n",
      " 0.89450159 0.8979144  0.77589385 0.76684727 0.73615925 0.74677684\n",
      " 0.76175517 0.75996751 0.76289272 0.79352651 0.78878654 0.80284396\n",
      " 0.80468585 0.82760023 0.81641387 0.79011379 0.78548209 0.80455037\n",
      " 0.80176056 0.79190144 0.77998372 0.79111594 0.78504879 0.77670639\n",
      " 0.74601845 0.75544418 0.76644092 0.76397612 0.80969661 0.82361865\n",
      " 0.75566091 0.73011914 0.70622971 0.70541709 0.7063651  0.72681478\n",
      " 0.7451788  0.72470202 0.73986996 0.74257852 0.70322317 0.70828551\n",
      " 0.69873869 0.69453305 0.69250894 0.69175118 0.69153589 0.69129866\n",
      " 0.69070554 0.68964177 0.68815899 0.68640608]\n",
      "11 day output [[0.6845627]]\n",
      "12 day input [0.88098591 0.9002167  0.9089924  0.90658183 0.85449621 0.874675\n",
      " 0.88894908 0.90097509 0.91687432 0.91459914 0.89840192 0.87321236\n",
      " 0.83973453 0.8943662  0.88873243 0.89943119 0.88128389 0.90650057\n",
      " 0.92819607 0.93147349 0.94057421 0.92678765 0.94623509 0.95059591\n",
      " 0.95016253 0.97776275 0.94775187 0.90092095 0.87007042 0.85907368\n",
      " 0.81143013 0.82332066 0.75728606 0.84043878 0.81346155 0.86151136\n",
      " 0.85861319 0.79718309 0.77074752 0.8176869  0.86446368 0.86552006\n",
      " 0.87413326 0.89157638 0.89777901 0.8629469  0.89011374 0.89450159\n",
      " 0.8979144  0.77589385 0.76684727 0.73615925 0.74677684 0.76175517\n",
      " 0.75996751 0.76289272 0.79352651 0.78878654 0.80284396 0.80468585\n",
      " 0.82760023 0.81641387 0.79011379 0.78548209 0.80455037 0.80176056\n",
      " 0.79190144 0.77998372 0.79111594 0.78504879 0.77670639 0.74601845\n",
      " 0.75544418 0.76644092 0.76397612 0.80969661 0.82361865 0.75566091\n",
      " 0.73011914 0.70622971 0.70541709 0.7063651  0.72681478 0.7451788\n",
      " 0.72470202 0.73986996 0.74257852 0.70322317 0.70828551 0.69873869\n",
      " 0.69453305 0.69250894 0.69175118 0.69153589 0.69129866 0.69070554\n",
      " 0.68964177 0.68815899 0.68640608 0.68456268]\n",
      "12 day output [[0.68279]]\n",
      "13 day input [0.9002167  0.9089924  0.90658183 0.85449621 0.874675   0.88894908\n",
      " 0.90097509 0.91687432 0.91459914 0.89840192 0.87321236 0.83973453\n",
      " 0.8943662  0.88873243 0.89943119 0.88128389 0.90650057 0.92819607\n",
      " 0.93147349 0.94057421 0.92678765 0.94623509 0.95059591 0.95016253\n",
      " 0.97776275 0.94775187 0.90092095 0.87007042 0.85907368 0.81143013\n",
      " 0.82332066 0.75728606 0.84043878 0.81346155 0.86151136 0.85861319\n",
      " 0.79718309 0.77074752 0.8176869  0.86446368 0.86552006 0.87413326\n",
      " 0.89157638 0.89777901 0.8629469  0.89011374 0.89450159 0.8979144\n",
      " 0.77589385 0.76684727 0.73615925 0.74677684 0.76175517 0.75996751\n",
      " 0.76289272 0.79352651 0.78878654 0.80284396 0.80468585 0.82760023\n",
      " 0.81641387 0.79011379 0.78548209 0.80455037 0.80176056 0.79190144\n",
      " 0.77998372 0.79111594 0.78504879 0.77670639 0.74601845 0.75544418\n",
      " 0.76644092 0.76397612 0.80969661 0.82361865 0.75566091 0.73011914\n",
      " 0.70622971 0.70541709 0.7063651  0.72681478 0.7451788  0.72470202\n",
      " 0.73986996 0.74257852 0.70322317 0.70828551 0.69873869 0.69453305\n",
      " 0.69250894 0.69175118 0.69153589 0.69129866 0.69070554 0.68964177\n",
      " 0.68815899 0.68640608 0.68456268 0.68278998]\n",
      "13 day output [[0.6812015]]\n",
      "14 day input [0.9089924  0.90658183 0.85449621 0.874675   0.88894908 0.90097509\n",
      " 0.91687432 0.91459914 0.89840192 0.87321236 0.83973453 0.8943662\n",
      " 0.88873243 0.89943119 0.88128389 0.90650057 0.92819607 0.93147349\n",
      " 0.94057421 0.92678765 0.94623509 0.95059591 0.95016253 0.97776275\n",
      " 0.94775187 0.90092095 0.87007042 0.85907368 0.81143013 0.82332066\n",
      " 0.75728606 0.84043878 0.81346155 0.86151136 0.85861319 0.79718309\n",
      " 0.77074752 0.8176869  0.86446368 0.86552006 0.87413326 0.89157638\n",
      " 0.89777901 0.8629469  0.89011374 0.89450159 0.8979144  0.77589385\n",
      " 0.76684727 0.73615925 0.74677684 0.76175517 0.75996751 0.76289272\n",
      " 0.79352651 0.78878654 0.80284396 0.80468585 0.82760023 0.81641387\n",
      " 0.79011379 0.78548209 0.80455037 0.80176056 0.79190144 0.77998372\n",
      " 0.79111594 0.78504879 0.77670639 0.74601845 0.75544418 0.76644092\n",
      " 0.76397612 0.80969661 0.82361865 0.75566091 0.73011914 0.70622971\n",
      " 0.70541709 0.7063651  0.72681478 0.7451788  0.72470202 0.73986996\n",
      " 0.74257852 0.70322317 0.70828551 0.69873869 0.69453305 0.69250894\n",
      " 0.69175118 0.69153589 0.69129866 0.69070554 0.68964177 0.68815899\n",
      " 0.68640608 0.68456268 0.68278998 0.68120152]\n",
      "14 day output [[0.67985475]]\n",
      "15 day input [0.90658183 0.85449621 0.874675   0.88894908 0.90097509 0.91687432\n",
      " 0.91459914 0.89840192 0.87321236 0.83973453 0.8943662  0.88873243\n",
      " 0.89943119 0.88128389 0.90650057 0.92819607 0.93147349 0.94057421\n",
      " 0.92678765 0.94623509 0.95059591 0.95016253 0.97776275 0.94775187\n",
      " 0.90092095 0.87007042 0.85907368 0.81143013 0.82332066 0.75728606\n",
      " 0.84043878 0.81346155 0.86151136 0.85861319 0.79718309 0.77074752\n",
      " 0.8176869  0.86446368 0.86552006 0.87413326 0.89157638 0.89777901\n",
      " 0.8629469  0.89011374 0.89450159 0.8979144  0.77589385 0.76684727\n",
      " 0.73615925 0.74677684 0.76175517 0.75996751 0.76289272 0.79352651\n",
      " 0.78878654 0.80284396 0.80468585 0.82760023 0.81641387 0.79011379\n",
      " 0.78548209 0.80455037 0.80176056 0.79190144 0.77998372 0.79111594\n",
      " 0.78504879 0.77670639 0.74601845 0.75544418 0.76644092 0.76397612\n",
      " 0.80969661 0.82361865 0.75566091 0.73011914 0.70622971 0.70541709\n",
      " 0.7063651  0.72681478 0.7451788  0.72470202 0.73986996 0.74257852\n",
      " 0.70322317 0.70828551 0.69873869 0.69453305 0.69250894 0.69175118\n",
      " 0.69153589 0.69129866 0.69070554 0.68964177 0.68815899 0.68640608\n",
      " 0.68456268 0.68278998 0.68120152 0.67985475]\n",
      "15 day output [[0.6787562]]\n",
      "16 day input [0.85449621 0.874675   0.88894908 0.90097509 0.91687432 0.91459914\n",
      " 0.89840192 0.87321236 0.83973453 0.8943662  0.88873243 0.89943119\n",
      " 0.88128389 0.90650057 0.92819607 0.93147349 0.94057421 0.92678765\n",
      " 0.94623509 0.95059591 0.95016253 0.97776275 0.94775187 0.90092095\n",
      " 0.87007042 0.85907368 0.81143013 0.82332066 0.75728606 0.84043878\n",
      " 0.81346155 0.86151136 0.85861319 0.79718309 0.77074752 0.8176869\n",
      " 0.86446368 0.86552006 0.87413326 0.89157638 0.89777901 0.8629469\n",
      " 0.89011374 0.89450159 0.8979144  0.77589385 0.76684727 0.73615925\n",
      " 0.74677684 0.76175517 0.75996751 0.76289272 0.79352651 0.78878654\n",
      " 0.80284396 0.80468585 0.82760023 0.81641387 0.79011379 0.78548209\n",
      " 0.80455037 0.80176056 0.79190144 0.77998372 0.79111594 0.78504879\n",
      " 0.77670639 0.74601845 0.75544418 0.76644092 0.76397612 0.80969661\n",
      " 0.82361865 0.75566091 0.73011914 0.70622971 0.70541709 0.7063651\n",
      " 0.72681478 0.7451788  0.72470202 0.73986996 0.74257852 0.70322317\n",
      " 0.70828551 0.69873869 0.69453305 0.69250894 0.69175118 0.69153589\n",
      " 0.69129866 0.69070554 0.68964177 0.68815899 0.68640608 0.68456268\n",
      " 0.68278998 0.68120152 0.67985475 0.67875618]\n",
      "16 day output [[0.6778769]]\n",
      "17 day input [0.874675   0.88894908 0.90097509 0.91687432 0.91459914 0.89840192\n",
      " 0.87321236 0.83973453 0.8943662  0.88873243 0.89943119 0.88128389\n",
      " 0.90650057 0.92819607 0.93147349 0.94057421 0.92678765 0.94623509\n",
      " 0.95059591 0.95016253 0.97776275 0.94775187 0.90092095 0.87007042\n",
      " 0.85907368 0.81143013 0.82332066 0.75728606 0.84043878 0.81346155\n",
      " 0.86151136 0.85861319 0.79718309 0.77074752 0.8176869  0.86446368\n",
      " 0.86552006 0.87413326 0.89157638 0.89777901 0.8629469  0.89011374\n",
      " 0.89450159 0.8979144  0.77589385 0.76684727 0.73615925 0.74677684\n",
      " 0.76175517 0.75996751 0.76289272 0.79352651 0.78878654 0.80284396\n",
      " 0.80468585 0.82760023 0.81641387 0.79011379 0.78548209 0.80455037\n",
      " 0.80176056 0.79190144 0.77998372 0.79111594 0.78504879 0.77670639\n",
      " 0.74601845 0.75544418 0.76644092 0.76397612 0.80969661 0.82361865\n",
      " 0.75566091 0.73011914 0.70622971 0.70541709 0.7063651  0.72681478\n",
      " 0.7451788  0.72470202 0.73986996 0.74257852 0.70322317 0.70828551\n",
      " 0.69873869 0.69453305 0.69250894 0.69175118 0.69153589 0.69129866\n",
      " 0.69070554 0.68964177 0.68815899 0.68640608 0.68456268 0.68278998\n",
      " 0.68120152 0.67985475 0.67875618 0.67787689]\n",
      "17 day output [[0.67716825]]\n",
      "18 day input [0.88894908 0.90097509 0.91687432 0.91459914 0.89840192 0.87321236\n",
      " 0.83973453 0.8943662  0.88873243 0.89943119 0.88128389 0.90650057\n",
      " 0.92819607 0.93147349 0.94057421 0.92678765 0.94623509 0.95059591\n",
      " 0.95016253 0.97776275 0.94775187 0.90092095 0.87007042 0.85907368\n",
      " 0.81143013 0.82332066 0.75728606 0.84043878 0.81346155 0.86151136\n",
      " 0.85861319 0.79718309 0.77074752 0.8176869  0.86446368 0.86552006\n",
      " 0.87413326 0.89157638 0.89777901 0.8629469  0.89011374 0.89450159\n",
      " 0.8979144  0.77589385 0.76684727 0.73615925 0.74677684 0.76175517\n",
      " 0.75996751 0.76289272 0.79352651 0.78878654 0.80284396 0.80468585\n",
      " 0.82760023 0.81641387 0.79011379 0.78548209 0.80455037 0.80176056\n",
      " 0.79190144 0.77998372 0.79111594 0.78504879 0.77670639 0.74601845\n",
      " 0.75544418 0.76644092 0.76397612 0.80969661 0.82361865 0.75566091\n",
      " 0.73011914 0.70622971 0.70541709 0.7063651  0.72681478 0.7451788\n",
      " 0.72470202 0.73986996 0.74257852 0.70322317 0.70828551 0.69873869\n",
      " 0.69453305 0.69250894 0.69175118 0.69153589 0.69129866 0.69070554\n",
      " 0.68964177 0.68815899 0.68640608 0.68456268 0.68278998 0.68120152\n",
      " 0.67985475 0.67875618 0.67787689 0.67716825]\n",
      "18 day output [[0.67657864]]\n",
      "19 day input [0.90097509 0.91687432 0.91459914 0.89840192 0.87321236 0.83973453\n",
      " 0.8943662  0.88873243 0.89943119 0.88128389 0.90650057 0.92819607\n",
      " 0.93147349 0.94057421 0.92678765 0.94623509 0.95059591 0.95016253\n",
      " 0.97776275 0.94775187 0.90092095 0.87007042 0.85907368 0.81143013\n",
      " 0.82332066 0.75728606 0.84043878 0.81346155 0.86151136 0.85861319\n",
      " 0.79718309 0.77074752 0.8176869  0.86446368 0.86552006 0.87413326\n",
      " 0.89157638 0.89777901 0.8629469  0.89011374 0.89450159 0.8979144\n",
      " 0.77589385 0.76684727 0.73615925 0.74677684 0.76175517 0.75996751\n",
      " 0.76289272 0.79352651 0.78878654 0.80284396 0.80468585 0.82760023\n",
      " 0.81641387 0.79011379 0.78548209 0.80455037 0.80176056 0.79190144\n",
      " 0.77998372 0.79111594 0.78504879 0.77670639 0.74601845 0.75544418\n",
      " 0.76644092 0.76397612 0.80969661 0.82361865 0.75566091 0.73011914\n",
      " 0.70622971 0.70541709 0.7063651  0.72681478 0.7451788  0.72470202\n",
      " 0.73986996 0.74257852 0.70322317 0.70828551 0.69873869 0.69453305\n",
      " 0.69250894 0.69175118 0.69153589 0.69129866 0.69070554 0.68964177\n",
      " 0.68815899 0.68640608 0.68456268 0.68278998 0.68120152 0.67985475\n",
      " 0.67875618 0.67787689 0.67716825 0.67657864]\n",
      "19 day output [[0.67606235]]\n",
      "20 day input [0.91687432 0.91459914 0.89840192 0.87321236 0.83973453 0.8943662\n",
      " 0.88873243 0.89943119 0.88128389 0.90650057 0.92819607 0.93147349\n",
      " 0.94057421 0.92678765 0.94623509 0.95059591 0.95016253 0.97776275\n",
      " 0.94775187 0.90092095 0.87007042 0.85907368 0.81143013 0.82332066\n",
      " 0.75728606 0.84043878 0.81346155 0.86151136 0.85861319 0.79718309\n",
      " 0.77074752 0.8176869  0.86446368 0.86552006 0.87413326 0.89157638\n",
      " 0.89777901 0.8629469  0.89011374 0.89450159 0.8979144  0.77589385\n",
      " 0.76684727 0.73615925 0.74677684 0.76175517 0.75996751 0.76289272\n",
      " 0.79352651 0.78878654 0.80284396 0.80468585 0.82760023 0.81641387\n",
      " 0.79011379 0.78548209 0.80455037 0.80176056 0.79190144 0.77998372\n",
      " 0.79111594 0.78504879 0.77670639 0.74601845 0.75544418 0.76644092\n",
      " 0.76397612 0.80969661 0.82361865 0.75566091 0.73011914 0.70622971\n",
      " 0.70541709 0.7063651  0.72681478 0.7451788  0.72470202 0.73986996\n",
      " 0.74257852 0.70322317 0.70828551 0.69873869 0.69453305 0.69250894\n",
      " 0.69175118 0.69153589 0.69129866 0.69070554 0.68964177 0.68815899\n",
      " 0.68640608 0.68456268 0.68278998 0.68120152 0.67985475 0.67875618\n",
      " 0.67787689 0.67716825 0.67657864 0.67606235]\n",
      "20 day output [[0.6755872]]\n",
      "21 day input [0.91459914 0.89840192 0.87321236 0.83973453 0.8943662  0.88873243\n",
      " 0.89943119 0.88128389 0.90650057 0.92819607 0.93147349 0.94057421\n",
      " 0.92678765 0.94623509 0.95059591 0.95016253 0.97776275 0.94775187\n",
      " 0.90092095 0.87007042 0.85907368 0.81143013 0.82332066 0.75728606\n",
      " 0.84043878 0.81346155 0.86151136 0.85861319 0.79718309 0.77074752\n",
      " 0.8176869  0.86446368 0.86552006 0.87413326 0.89157638 0.89777901\n",
      " 0.8629469  0.89011374 0.89450159 0.8979144  0.77589385 0.76684727\n",
      " 0.73615925 0.74677684 0.76175517 0.75996751 0.76289272 0.79352651\n",
      " 0.78878654 0.80284396 0.80468585 0.82760023 0.81641387 0.79011379\n",
      " 0.78548209 0.80455037 0.80176056 0.79190144 0.77998372 0.79111594\n",
      " 0.78504879 0.77670639 0.74601845 0.75544418 0.76644092 0.76397612\n",
      " 0.80969661 0.82361865 0.75566091 0.73011914 0.70622971 0.70541709\n",
      " 0.7063651  0.72681478 0.7451788  0.72470202 0.73986996 0.74257852\n",
      " 0.70322317 0.70828551 0.69873869 0.69453305 0.69250894 0.69175118\n",
      " 0.69153589 0.69129866 0.69070554 0.68964177 0.68815899 0.68640608\n",
      " 0.68456268 0.68278998 0.68120152 0.67985475 0.67875618 0.67787689\n",
      " 0.67716825 0.67657864 0.67606235 0.67558718]\n",
      "21 day output [[0.6751343]]\n",
      "22 day input [0.89840192 0.87321236 0.83973453 0.8943662  0.88873243 0.89943119\n",
      " 0.88128389 0.90650057 0.92819607 0.93147349 0.94057421 0.92678765\n",
      " 0.94623509 0.95059591 0.95016253 0.97776275 0.94775187 0.90092095\n",
      " 0.87007042 0.85907368 0.81143013 0.82332066 0.75728606 0.84043878\n",
      " 0.81346155 0.86151136 0.85861319 0.79718309 0.77074752 0.8176869\n",
      " 0.86446368 0.86552006 0.87413326 0.89157638 0.89777901 0.8629469\n",
      " 0.89011374 0.89450159 0.8979144  0.77589385 0.76684727 0.73615925\n",
      " 0.74677684 0.76175517 0.75996751 0.76289272 0.79352651 0.78878654\n",
      " 0.80284396 0.80468585 0.82760023 0.81641387 0.79011379 0.78548209\n",
      " 0.80455037 0.80176056 0.79190144 0.77998372 0.79111594 0.78504879\n",
      " 0.77670639 0.74601845 0.75544418 0.76644092 0.76397612 0.80969661\n",
      " 0.82361865 0.75566091 0.73011914 0.70622971 0.70541709 0.7063651\n",
      " 0.72681478 0.7451788  0.72470202 0.73986996 0.74257852 0.70322317\n",
      " 0.70828551 0.69873869 0.69453305 0.69250894 0.69175118 0.69153589\n",
      " 0.69129866 0.69070554 0.68964177 0.68815899 0.68640608 0.68456268\n",
      " 0.68278998 0.68120152 0.67985475 0.67875618 0.67787689 0.67716825\n",
      " 0.67657864 0.67606235 0.67558718 0.6751343 ]\n",
      "22 day output [[0.6746976]]\n",
      "23 day input [0.87321236 0.83973453 0.8943662  0.88873243 0.89943119 0.88128389\n",
      " 0.90650057 0.92819607 0.93147349 0.94057421 0.92678765 0.94623509\n",
      " 0.95059591 0.95016253 0.97776275 0.94775187 0.90092095 0.87007042\n",
      " 0.85907368 0.81143013 0.82332066 0.75728606 0.84043878 0.81346155\n",
      " 0.86151136 0.85861319 0.79718309 0.77074752 0.8176869  0.86446368\n",
      " 0.86552006 0.87413326 0.89157638 0.89777901 0.8629469  0.89011374\n",
      " 0.89450159 0.8979144  0.77589385 0.76684727 0.73615925 0.74677684\n",
      " 0.76175517 0.75996751 0.76289272 0.79352651 0.78878654 0.80284396\n",
      " 0.80468585 0.82760023 0.81641387 0.79011379 0.78548209 0.80455037\n",
      " 0.80176056 0.79190144 0.77998372 0.79111594 0.78504879 0.77670639\n",
      " 0.74601845 0.75544418 0.76644092 0.76397612 0.80969661 0.82361865\n",
      " 0.75566091 0.73011914 0.70622971 0.70541709 0.7063651  0.72681478\n",
      " 0.7451788  0.72470202 0.73986996 0.74257852 0.70322317 0.70828551\n",
      " 0.69873869 0.69453305 0.69250894 0.69175118 0.69153589 0.69129866\n",
      " 0.69070554 0.68964177 0.68815899 0.68640608 0.68456268 0.68278998\n",
      " 0.68120152 0.67985475 0.67875618 0.67787689 0.67716825 0.67657864\n",
      " 0.67606235 0.67558718 0.6751343  0.67469758]\n",
      "23 day output [[0.6742787]]\n",
      "24 day input [0.83973453 0.8943662  0.88873243 0.89943119 0.88128389 0.90650057\n",
      " 0.92819607 0.93147349 0.94057421 0.92678765 0.94623509 0.95059591\n",
      " 0.95016253 0.97776275 0.94775187 0.90092095 0.87007042 0.85907368\n",
      " 0.81143013 0.82332066 0.75728606 0.84043878 0.81346155 0.86151136\n",
      " 0.85861319 0.79718309 0.77074752 0.8176869  0.86446368 0.86552006\n",
      " 0.87413326 0.89157638 0.89777901 0.8629469  0.89011374 0.89450159\n",
      " 0.8979144  0.77589385 0.76684727 0.73615925 0.74677684 0.76175517\n",
      " 0.75996751 0.76289272 0.79352651 0.78878654 0.80284396 0.80468585\n",
      " 0.82760023 0.81641387 0.79011379 0.78548209 0.80455037 0.80176056\n",
      " 0.79190144 0.77998372 0.79111594 0.78504879 0.77670639 0.74601845\n",
      " 0.75544418 0.76644092 0.76397612 0.80969661 0.82361865 0.75566091\n",
      " 0.73011914 0.70622971 0.70541709 0.7063651  0.72681478 0.7451788\n",
      " 0.72470202 0.73986996 0.74257852 0.70322317 0.70828551 0.69873869\n",
      " 0.69453305 0.69250894 0.69175118 0.69153589 0.69129866 0.69070554\n",
      " 0.68964177 0.68815899 0.68640608 0.68456268 0.68278998 0.68120152\n",
      " 0.67985475 0.67875618 0.67787689 0.67716825 0.67657864 0.67606235\n",
      " 0.67558718 0.6751343  0.67469758 0.67427868]\n",
      "24 day output [[0.6738838]]\n",
      "25 day input [0.8943662  0.88873243 0.89943119 0.88128389 0.90650057 0.92819607\n",
      " 0.93147349 0.94057421 0.92678765 0.94623509 0.95059591 0.95016253\n",
      " 0.97776275 0.94775187 0.90092095 0.87007042 0.85907368 0.81143013\n",
      " 0.82332066 0.75728606 0.84043878 0.81346155 0.86151136 0.85861319\n",
      " 0.79718309 0.77074752 0.8176869  0.86446368 0.86552006 0.87413326\n",
      " 0.89157638 0.89777901 0.8629469  0.89011374 0.89450159 0.8979144\n",
      " 0.77589385 0.76684727 0.73615925 0.74677684 0.76175517 0.75996751\n",
      " 0.76289272 0.79352651 0.78878654 0.80284396 0.80468585 0.82760023\n",
      " 0.81641387 0.79011379 0.78548209 0.80455037 0.80176056 0.79190144\n",
      " 0.77998372 0.79111594 0.78504879 0.77670639 0.74601845 0.75544418\n",
      " 0.76644092 0.76397612 0.80969661 0.82361865 0.75566091 0.73011914\n",
      " 0.70622971 0.70541709 0.7063651  0.72681478 0.7451788  0.72470202\n",
      " 0.73986996 0.74257852 0.70322317 0.70828551 0.69873869 0.69453305\n",
      " 0.69250894 0.69175118 0.69153589 0.69129866 0.69070554 0.68964177\n",
      " 0.68815899 0.68640608 0.68456268 0.68278998 0.68120152 0.67985475\n",
      " 0.67875618 0.67787689 0.67716825 0.67657864 0.67606235 0.67558718\n",
      " 0.6751343  0.67469758 0.67427868 0.6738838 ]\n",
      "25 day output [[0.6735199]]\n",
      "26 day input [0.88873243 0.89943119 0.88128389 0.90650057 0.92819607 0.93147349\n",
      " 0.94057421 0.92678765 0.94623509 0.95059591 0.95016253 0.97776275\n",
      " 0.94775187 0.90092095 0.87007042 0.85907368 0.81143013 0.82332066\n",
      " 0.75728606 0.84043878 0.81346155 0.86151136 0.85861319 0.79718309\n",
      " 0.77074752 0.8176869  0.86446368 0.86552006 0.87413326 0.89157638\n",
      " 0.89777901 0.8629469  0.89011374 0.89450159 0.8979144  0.77589385\n",
      " 0.76684727 0.73615925 0.74677684 0.76175517 0.75996751 0.76289272\n",
      " 0.79352651 0.78878654 0.80284396 0.80468585 0.82760023 0.81641387\n",
      " 0.79011379 0.78548209 0.80455037 0.80176056 0.79190144 0.77998372\n",
      " 0.79111594 0.78504879 0.77670639 0.74601845 0.75544418 0.76644092\n",
      " 0.76397612 0.80969661 0.82361865 0.75566091 0.73011914 0.70622971\n",
      " 0.70541709 0.7063651  0.72681478 0.7451788  0.72470202 0.73986996\n",
      " 0.74257852 0.70322317 0.70828551 0.69873869 0.69453305 0.69250894\n",
      " 0.69175118 0.69153589 0.69129866 0.69070554 0.68964177 0.68815899\n",
      " 0.68640608 0.68456268 0.68278998 0.68120152 0.67985475 0.67875618\n",
      " 0.67787689 0.67716825 0.67657864 0.67606235 0.67558718 0.6751343\n",
      " 0.67469758 0.67427868 0.6738838  0.67351991]\n",
      "26 day output [[0.6731919]]\n",
      "27 day input [0.89943119 0.88128389 0.90650057 0.92819607 0.93147349 0.94057421\n",
      " 0.92678765 0.94623509 0.95059591 0.95016253 0.97776275 0.94775187\n",
      " 0.90092095 0.87007042 0.85907368 0.81143013 0.82332066 0.75728606\n",
      " 0.84043878 0.81346155 0.86151136 0.85861319 0.79718309 0.77074752\n",
      " 0.8176869  0.86446368 0.86552006 0.87413326 0.89157638 0.89777901\n",
      " 0.8629469  0.89011374 0.89450159 0.8979144  0.77589385 0.76684727\n",
      " 0.73615925 0.74677684 0.76175517 0.75996751 0.76289272 0.79352651\n",
      " 0.78878654 0.80284396 0.80468585 0.82760023 0.81641387 0.79011379\n",
      " 0.78548209 0.80455037 0.80176056 0.79190144 0.77998372 0.79111594\n",
      " 0.78504879 0.77670639 0.74601845 0.75544418 0.76644092 0.76397612\n",
      " 0.80969661 0.82361865 0.75566091 0.73011914 0.70622971 0.70541709\n",
      " 0.7063651  0.72681478 0.7451788  0.72470202 0.73986996 0.74257852\n",
      " 0.70322317 0.70828551 0.69873869 0.69453305 0.69250894 0.69175118\n",
      " 0.69153589 0.69129866 0.69070554 0.68964177 0.68815899 0.68640608\n",
      " 0.68456268 0.68278998 0.68120152 0.67985475 0.67875618 0.67787689\n",
      " 0.67716825 0.67657864 0.67606235 0.67558718 0.6751343  0.67469758\n",
      " 0.67427868 0.6738838  0.67351991 0.67319191]\n",
      "27 day output [[0.6729023]]\n",
      "28 day input [0.88128389 0.90650057 0.92819607 0.93147349 0.94057421 0.92678765\n",
      " 0.94623509 0.95059591 0.95016253 0.97776275 0.94775187 0.90092095\n",
      " 0.87007042 0.85907368 0.81143013 0.82332066 0.75728606 0.84043878\n",
      " 0.81346155 0.86151136 0.85861319 0.79718309 0.77074752 0.8176869\n",
      " 0.86446368 0.86552006 0.87413326 0.89157638 0.89777901 0.8629469\n",
      " 0.89011374 0.89450159 0.8979144  0.77589385 0.76684727 0.73615925\n",
      " 0.74677684 0.76175517 0.75996751 0.76289272 0.79352651 0.78878654\n",
      " 0.80284396 0.80468585 0.82760023 0.81641387 0.79011379 0.78548209\n",
      " 0.80455037 0.80176056 0.79190144 0.77998372 0.79111594 0.78504879\n",
      " 0.77670639 0.74601845 0.75544418 0.76644092 0.76397612 0.80969661\n",
      " 0.82361865 0.75566091 0.73011914 0.70622971 0.70541709 0.7063651\n",
      " 0.72681478 0.7451788  0.72470202 0.73986996 0.74257852 0.70322317\n",
      " 0.70828551 0.69873869 0.69453305 0.69250894 0.69175118 0.69153589\n",
      " 0.69129866 0.69070554 0.68964177 0.68815899 0.68640608 0.68456268\n",
      " 0.68278998 0.68120152 0.67985475 0.67875618 0.67787689 0.67716825\n",
      " 0.67657864 0.67606235 0.67558718 0.6751343  0.67469758 0.67427868\n",
      " 0.6738838  0.67351991 0.67319191 0.67290229]\n",
      "28 day output [[0.6726502]]\n",
      "29 day input [0.90650057 0.92819607 0.93147349 0.94057421 0.92678765 0.94623509\n",
      " 0.95059591 0.95016253 0.97776275 0.94775187 0.90092095 0.87007042\n",
      " 0.85907368 0.81143013 0.82332066 0.75728606 0.84043878 0.81346155\n",
      " 0.86151136 0.85861319 0.79718309 0.77074752 0.8176869  0.86446368\n",
      " 0.86552006 0.87413326 0.89157638 0.89777901 0.8629469  0.89011374\n",
      " 0.89450159 0.8979144  0.77589385 0.76684727 0.73615925 0.74677684\n",
      " 0.76175517 0.75996751 0.76289272 0.79352651 0.78878654 0.80284396\n",
      " 0.80468585 0.82760023 0.81641387 0.79011379 0.78548209 0.80455037\n",
      " 0.80176056 0.79190144 0.77998372 0.79111594 0.78504879 0.77670639\n",
      " 0.74601845 0.75544418 0.76644092 0.76397612 0.80969661 0.82361865\n",
      " 0.75566091 0.73011914 0.70622971 0.70541709 0.7063651  0.72681478\n",
      " 0.7451788  0.72470202 0.73986996 0.74257852 0.70322317 0.70828551\n",
      " 0.69873869 0.69453305 0.69250894 0.69175118 0.69153589 0.69129866\n",
      " 0.69070554 0.68964177 0.68815899 0.68640608 0.68456268 0.68278998\n",
      " 0.68120152 0.67985475 0.67875618 0.67787689 0.67716825 0.67657864\n",
      " 0.67606235 0.67558718 0.6751343  0.67469758 0.67427868 0.6738838\n",
      " 0.67351991 0.67319191 0.67290229 0.67265022]\n",
      "29 day output [[0.67243236]]\n",
      "[[0.7082855105400085], [0.698738694190979], [0.6945330500602722], [0.6925089359283447], [0.6917511820793152], [0.6915358901023865], [0.6912986636161804], [0.6907055377960205], [0.6896417737007141], [0.6881589889526367], [0.6864060759544373], [0.6845626831054688], [0.6827899813652039], [0.6812015175819397], [0.6798547506332397], [0.6787561774253845], [0.677876889705658], [0.6771682500839233], [0.6765786409378052], [0.6760623455047607], [0.6755871772766113], [0.6751343011856079], [0.6746975779533386], [0.6742786765098572], [0.6738837957382202], [0.6735199093818665], [0.6731919050216675], [0.6729022860527039], [0.6726502180099487], [0.6724323630332947]]\n"
     ]
    }
   ],
   "source": [
    "#Demonstrate prediction for next 10 days\n",
    "from numpy import array\n",
    "\n",
    "lst_output = []\n",
    "n_steps = 100\n",
    "i = 0\n",
    "while(i<30):\n",
    "    if(len(temp_input)>100):\n",
    "        #Print(temp_input)\n",
    "        x_input = np.array(temp_input[1:])\n",
    "        print(\"{} day input {}\".format(i,x_input))\n",
    "        x_input = x_input.reshape(1,-1)\n",
    "        x_input = x_input.reshape((1, n_steps, 1))\n",
    "        #print(x_input)\n",
    "        yhat = model.predict(x_input, verbose = 0)\n",
    "        print(\"{} day output {}\".format(i,yhat))\n",
    "        temp_input.extend(yhat[0].tolist())\n",
    "        temp_input = temp_input[1:]\n",
    "        #print(temp_input)\n",
    "        lst_output.extend(yhat.tolist())\n",
    "        i = i+1\n",
    "    else:\n",
    "        x_input = x_input.reshape((1, n_steps, 1))\n",
    "        yhat = model.predict(x_input, verbose = 0)\n",
    "        print(yhat[0])\n",
    "        temp_input.extend(yhat[0].tolist())\n",
    "        print(len(temp_input))\n",
    "        lst_output.extend(yhat.tolist())\n",
    "        i = i+1\n",
    "        \n",
    "print(lst_output)"
   ]
  },
  {
   "cell_type": "code",
   "execution_count": 63,
   "id": "df3f7b1b",
   "metadata": {},
   "outputs": [],
   "source": [
    "day_new = np.arange(1,101)\n",
    "day_pred = np.arange(101,131)"
   ]
  },
  {
   "cell_type": "code",
   "execution_count": 64,
   "id": "39fd3d0d",
   "metadata": {},
   "outputs": [
    {
     "data": {
      "text/plain": [
       "2193"
      ]
     },
     "execution_count": 64,
     "metadata": {},
     "output_type": "execute_result"
    }
   ],
   "source": [
    "len(df1)"
   ]
  },
  {
   "cell_type": "code",
   "execution_count": 78,
   "id": "36fe9604",
   "metadata": {},
   "outputs": [],
   "source": [
    "df2 = df1.tolist()\n",
    "df2.extend(lst_output)"
   ]
  },
  {
   "cell_type": "code",
   "execution_count": 79,
   "id": "cf9f5eea",
   "metadata": {},
   "outputs": [
    {
     "data": {
      "text/plain": [
       "[<matplotlib.lines.Line2D at 0x2068c6a3610>]"
      ]
     },
     "execution_count": 79,
     "metadata": {},
     "output_type": "execute_result"
    },
    {
     "data": {
      "image/png": "[encoded data removed]",
      "text/plain": [
       "<Figure size 640x480 with 1 Axes>"
      ]
     },
     "metadata": {},
     "output_type": "display_data"
    }
   ],
   "source": [
    "plt.plot(day_new, scaler.inverse_transform(df1[2093:]))\n",
    "plt.plot(day_pred, scaler.inverse_transform(lst_output))"
   ]
  },
  {
   "cell_type": "code",
   "execution_count": null,
   "id": "efe72f0a",
   "metadata": {},
   "outputs": [],
   "source": []
  }
 ],
 "metadata": {
  "kernelspec": {
   "display_name": "Python 3 (ipykernel)",
   "language": "python",
   "name": "python3"
  },
  "language_info": {
   "codemirror_mode": {
    "name": "ipython",
    "version": 3
   },
   "file_extension": ".py",
   "mimetype": "text/x-python",
   "name": "python",
   "nbconvert_exporter": "python",
   "pygments_lexer": "ipython3",
   "version": "3.11.4"
  }
 },
 "nbformat": 4,
 "nbformat_minor": 5
}
